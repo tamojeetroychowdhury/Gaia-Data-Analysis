{
 "cells": [
  {
   "cell_type": "code",
   "execution_count": 1,
   "id": "e05b4201",
   "metadata": {},
   "outputs": [],
   "source": [
    "import numpy as np\n",
    "import matplotlib.pyplot as plt\n",
    "import pandas as pd\n",
    "from astropy.table import Table\n"
   ]
  },
  {
   "cell_type": "code",
   "execution_count": 2,
   "id": "c48213bf",
   "metadata": {},
   "outputs": [],
   "source": [
    "from astroquery.gaia import Gaia"
   ]
  },
  {
   "cell_type": "code",
   "execution_count": 213,
   "id": "8f3cb475",
   "metadata": {},
   "outputs": [
    {
     "name": "stdout",
     "output_type": "stream",
     "text": [
      "INFO: Query finished. [astroquery.utils.tap.core]\n"
     ]
    },
    {
     "data": {
      "text/plain": [
       "3705"
      ]
     },
     "execution_count": 213,
     "metadata": {},
     "output_type": "execute_result"
    }
   ],
   "source": [
    "ra, dec = 93.5955 , -69.84858333\n",
    "\n",
    "\n",
    "\n",
    "\n",
    "if 1:\n",
    "    query = '''SELECT g.source_id, g.ra, g.dec, g.phot_g_mean_mag, g.phot_bp_mean_mag, g.phot_rp_mean_mag,\n",
    "    g.pmra, g.pmdec, g.pm, g.pmra_error, g.pmdec_error, g.pmra_pmdec_corr, DISTANCE(\n",
    "    POINT({}, {}),\n",
    "    POINT(g.ra, g.dec)) AS ang_sep\n",
    "    FROM gaiadr3.gaia_source AS g\n",
    "    WHERE 1 = CONTAINS(\n",
    "    POINT({}, {}),\n",
    "    CIRCLE(ra, dec, 0.2))\n",
    "    AND g.astrometric_params_solved >= 31\n",
    "    AND g.pmra is not null\n",
    "    AND g.pmdec is not null\n",
    "    AND g.phot_g_mean_mag is not null\n",
    "    AND g.phot_bp_mean_mag - g.phot_rp_mean_mag <= 0.75\n",
    "    AND DISTANCE(\n",
    "    POINT({}, {}),\n",
    "    POINT(g.ra, g.dec)) > 0.05\n",
    "    '''.format(ra, dec, ra, dec, ra, dec)\n",
    "    \n",
    "job = Gaia.launch_job_async(query)\n",
    "gc = job.get_results()\n",
    "gc = gc.to_pandas()\n",
    "len(gc)"
   ]
  },
  {
   "cell_type": "code",
   "execution_count": 215,
   "id": "fcf04df2",
   "metadata": {},
   "outputs": [],
   "source": [
    "gc.to_csv('sHodge-11.csv')"
   ]
  },
  {
   "cell_type": "code",
   "execution_count": 216,
   "id": "326dc60f",
   "metadata": {},
   "outputs": [],
   "source": [
    "values = get_mean_pm(gc.ra, gc.dec, gc.pmra, gc.pmdec, gc.pmra_error, gc.pmdec_error, gc.pmra_pmdec_corr, sigma=None, rsigma=numpy.inf, covfnc=covfncpm)"
   ]
  },
  {
   "cell_type": "code",
   "execution_count": 217,
   "id": "a1fb4eff",
   "metadata": {},
   "outputs": [
    {
     "data": {
      "text/plain": [
       "(1.652400190877052,\n",
       " 0.9086668803416271,\n",
       " 0.026056396015029595,\n",
       " 0.026797020445913495,\n",
       " -0.022570829693194443,\n",
       " 0.08669207525402818,\n",
       " 0.012846285324297898)"
      ]
     },
     "execution_count": 217,
     "metadata": {},
     "output_type": "execute_result"
    }
   ],
   "source": [
    "values"
   ]
  },
  {
   "cell_type": "code",
   "execution_count": 218,
   "id": "42a88072",
   "metadata": {},
   "outputs": [],
   "source": [
    "v = pd.DataFrame({'v':values})\n",
    "v.to_csv('vHodge_11.csv')"
   ]
  },
  {
   "cell_type": "code",
   "execution_count": 32,
   "id": "1fa7115b",
   "metadata": {},
   "outputs": [],
   "source": [
    "fd = fd[fd.P > 0.8]\n",
    "l = np.array(fd.GaiaDR3)"
   ]
  },
  {
   "cell_type": "code",
   "execution_count": 31,
   "id": "fb6c7adf",
   "metadata": {},
   "outputs": [],
   "source": [
    "fd = pd.read_csv('LMC-ML.csv')\n",
    "l = np.array(fd.GaiaDR3)"
   ]
  },
  {
   "cell_type": "code",
   "execution_count": 36,
   "id": "cf3f92a0",
   "metadata": {},
   "outputs": [
    {
     "data": {
      "text/plain": [
       "0.1540129864654278"
      ]
     },
     "execution_count": 36,
     "metadata": {},
     "output_type": "execute_result"
    }
   ],
   "source": [
    "np.sqrt((1.587-1.741)**2 + (0.456-0.454)**2) #/ np.sqrt((0.0246+0.01)**2 + (0.0247+0.01)**2)"
   ]
  },
  {
   "cell_type": "code",
   "execution_count": null,
   "id": "7578b631",
   "metadata": {},
   "outputs": [],
   "source": []
  },
  {
   "cell_type": "code",
   "execution_count": 14,
   "id": "9bd6ec42",
   "metadata": {},
   "outputs": [
    {
     "data": {
      "image/png": "[encoded data removed]",
      "text/plain": [
       "<Figure size 640x480 with 1 Axes>"
      ]
     },
     "metadata": {},
     "output_type": "display_data"
    }
   ],
   "source": [
    "plt.scatter(cl.RA, cl.Dec)\n",
    "plt.gca().invert_xaxis()\n",
    "plt.show()"
   ]
  },
  {
   "cell_type": "code",
   "execution_count": null,
   "id": "08a14db4",
   "metadata": {},
   "outputs": [],
   "source": []
  },
  {
   "cell_type": "code",
   "execution_count": null,
   "id": "25db2a7c",
   "metadata": {},
   "outputs": [],
   "source": [
    "import numpy, scipy.linalg, scipy.optimize\n",
    "\n",
    "# angular correlation function of systematic errors:\n",
    "# x is the angular distance between two points in degrees,\n",
    "# return the covariance of each component of proper motion in (mas/yr)^2\n",
    "covfncpm  = lambda x: 0.0004 / (1 + x / 0.3) + 0.0003 * numpy.exp(-x / 12.0)\n",
    "\n",
    "# a similar covariance function for parallax, return value in mas^2\n",
    "covfncplx = lambda x: 0.00005 / (1 + x / 0.3) + 0.00007 * numpy.exp(-x / 30.0 - (x / 50.0)**2)\n",
    "\n",
    "def angular_distance(ra0, dec0, ra1, dec1):\n",
    "    '''\n",
    "    Compute the angular distance between two points on a sphere (coordinates expressed in degrees)\n",
    "    '''\n",
    "    d2r = numpy.pi/180  # degrees to radians\n",
    "    return 2 * numpy.arcsin( (numpy.sin( (dec0-dec1)*0.5 * d2r )**2 +\n",
    "        numpy.cos(dec0 * d2r) * numpy.cos(dec1 * d2r) * numpy.sin( (ra0-ra1)*0.5 * d2r )**2 )**0.5 ) / d2r\n",
    "\n",
    "\n",
    "def get_mean_pm(ra, dec, pmra, pmdec, pmra_error, pmdec_error, pmra_pmdec_corr, sigma=0, rsigma=numpy.inf, covfnc=None):\n",
    "    '''\n",
    "    Compute the mean proper motion (PM) and possibly the internal PM dispersion for a cluster of stars.\n",
    "\n",
    "    Input consists of several arrays of length N (the number of stars), as given in the Gaia catalogue:\n",
    "    ra -- right ascension (azimuthal angle, or longitude) of stars, measured in degrees\n",
    "    dec -- declination (latitude), measured in degrees [-90 to +90]\n",
    "    pmra -- PM in the ra direction: d(ra)/dt * cos(dec), measured in mas/yr\n",
    "    pmdec -- PM in the dec direction\n",
    "    pmra_error -- statistical uncertainty of pmra [mas/yr]\n",
    "    pmdec_error -- same for pmdec\n",
    "    pmra_pmdec_corr -- correlation coefficient between errors in pmra and pmdec [-1 to 1]\n",
    "\n",
    "    Additional input parameters:\n",
    "    sigma -- internal PM dispersion. If None, then this quantity will be inferred from the input data,\n",
    "    if the value is provided, it will be used without modifications.\n",
    "    rsigma -- spatial radius of the internal PM dispersion profile: sigma(R) = sigma / (1 + (R/rsigma)**2)**0.25,\n",
    "    where R is the angular distance from the cluster center. If set to infinity, the internal dispersion\n",
    "    is assumed to be the same everywhere, otherwise it declines with radius.\n",
    "    covfnc -- spatial covariance function of systematic errors.\n",
    "    If None, the errors are assumed to be uncorrelated; possible choices are covfnc1 or covfnc2.\n",
    "\n",
    "    Output is a tuple with the following values:\n",
    "    mean_pmra, mean_pmdec -- the components of the mean PM of the cluster center-of-mass;\n",
    "    mean_pmra_error, mean_pmdec_error -- uncertainties on these mean PM;\n",
    "    mean_pmra_pmdec_corr -- correlation coefficient of the uncertainties;\n",
    "    sigma_value -- inferred internal PM dispersion (if sigma==None), or a copy of the input sigma if it was provided;\n",
    "    sigma_error -- uncertainty on sigma_value, or 0 if it was fixed to the input value.\n",
    "    '''\n",
    "\n",
    "    nstar  = len(ra)\n",
    "    pmboth = numpy.column_stack((pmra, pmdec)).reshape(-1)  # interleaved pmra,pmdec for each star\n",
    "\n",
    "    meanra = numpy.median(ra)\n",
    "    meandec= numpy.median(dec)\n",
    "    # assumed functional form of PM dispersion (may be arbitrary, here use a particular choice;\n",
    "    # note that the amplitude of dispersion may be a free parameter, only the spatial profile is fixed\n",
    "    sig2mul= 1 / (1 + angular_distance(ra, dec, meanra, meandec)**2 / rsigma**2)**0.5\n",
    "\n",
    "    if sigma is None and covfnc is None:  # should have a separate (simplified) treatment for this case,\n",
    "        covfnc = lambda x: x*0            # but instead use the general machinery with covfnc set to zero\n",
    "\n",
    "    if not covfnc is None:\n",
    "        # covariance matrix of systematic errors depending on the distance between two stars:\n",
    "        # [ [ C11  C12  ...  C1n ]\n",
    "        #   [ C12  C22  ...  C2n ]\n",
    "        #   [ ...  ...  ...  ... ]\n",
    "        #   [ C1n  C2n  ...  Cnn ] ]\n",
    "        # where Cij = covfnc(angular_distance(star_i, star_j))\n",
    "        covmat = numpy.array([ covfnc( angular_distance(ra, dec, ra0, dec0) )\n",
    "            for ra0, dec0 in zip(ra, dec) ])\n",
    "\n",
    "        # convert to a 2x larger matrix with diagonal 2x2 blocks (checkerboard pattern):\n",
    "        # [ [ C11   0   C12   0   ...  C1n   0  ]\n",
    "        #   [  0   C11   0   C12  ...   0   C1n ]\n",
    "        #   [ C12   0   C22   0   ...  C2n   0  ]\n",
    "        #   [  0   C12   0   C22  ...   0   C2n ]\n",
    "        #   [ ...  ...  ...  ...  ...  ...  ... ]\n",
    "        #   [ C1n   0   C2n   0   ...  Cnn   0  ]\n",
    "        #   [  0   C1n   0   C2n  ...   0   Cnn ] ]\n",
    "        covmat2= numpy.kron(covmat, numpy.eye(2))\n",
    "\n",
    "        # add 2x2 blocks along the main diagonal:\n",
    "        # [ [ E1xx E1xy  0    0   ...   0    0  ]\n",
    "        #   [ E1xy E1yy  0    0   ...   0    0  ]\n",
    "        #   [  0    0   E2xx E2xy ...   0    0  ]\n",
    "        #   [ ...  ...  ...  ...  ...  ...  ... ]\n",
    "        #   [  0    0    0    0   ...  Enxy Enyy] ]\n",
    "        # where the the 2x2 blocks are the covariance matrices of random errors\n",
    "        # for each star, and optionally the internal velocity dispersion (sigma):\n",
    "        # [ [  pmra_err^2 + sigma^2          corr * pmra_err * pmdec_err ]\n",
    "        #   [  corr * pmra_err * pmdec_err   pmdec_err^2 + sigma^2       ] ]\n",
    "\n",
    "        # distance between two subsequent diagonal elements in the flattened corrmat2\n",
    "        stride = 2*(2*nstar+1)\n",
    "        covmat2.flat[        0::stride] += pmra_error **2\n",
    "        covmat2.flat[2*nstar+1::stride] += pmdec_error**2\n",
    "        covmat2.flat[        1::stride] += pmra_error * pmdec_error * pmra_pmdec_corr\n",
    "        covmat2.flat[2*nstar  ::stride] += pmra_error * pmdec_error * pmra_pmdec_corr\n",
    "        P = numpy.tile(numpy.eye(2), (nstar,1))   # [ [1,0], [0,1], [1,0], [0,1], ... ]\n",
    "\n",
    "        if not sigma is None:\n",
    "            covmat2.flat[::stride//2] += numpy.repeat(sigma**2 * sig2mul, 2)\n",
    "\n",
    "            # obtain the Cholesky decomposition of covariance matrix\n",
    "            chol  = numpy.linalg.cholesky(covmat2)\n",
    "            CinvP = scipy.linalg.cho_solve((chol, True), P)\n",
    "            covar = numpy.linalg.inv(numpy.dot(CinvP.T, P))        # covariance of uncertainties in mean pmra,pmdec\n",
    "            sol   = numpy.dot(covar, numpy.dot(CinvP.T, pmboth))   # mean pmra,pmdec (the solution)\n",
    "            sigval= sigma  # known value provided as input\n",
    "            sigerr= 0.     # with no uncertainty\n",
    "\n",
    "        else:\n",
    "\n",
    "            Lambda, Q = scipy.linalg.eigh(covmat2, numpy.diag(numpy.repeat(sig2mul, 2)))\n",
    "            y = numpy.dot(pmboth, Q)\n",
    "            R = numpy.dot(Q.T, P)\n",
    "\n",
    "            # if we do not know sigma, we find it from the condition that the derivative of log-likelihood\n",
    "            # w.r.t. sigma^2 is zero; this means solving a 1d equation for sigma^2, in which for any trial\n",
    "            # value of sigma^2 we first obtain the solution of a linear system for (meanpmra, meanpmdec),\n",
    "            # and then substitute it into d(ln L)/d(sigma^2), which is a nonlinear function of sigma^2.\n",
    "            def rootfindersigma(sigma2):\n",
    "                D    = (Lambda + sigma2)**-1                 # diag(D) = diag[ 1 / (lambda_k + sigma^2) ]\n",
    "                RTDR = numpy.einsum('ki,k,kj->ij', R, D, R)  # R^T  diag(D)  R\n",
    "                RTDy = numpy.einsum('ki,k,k->i',   R, D, y)  # R^T  diag(D)  y\n",
    "                mubar= numpy.linalg.solve(RTDR, RTDy)\n",
    "                return numpy.sum( ( (y - numpy.dot(R, mubar)) * D )**2 - D)\n",
    "\n",
    "            # first need to bracket the root from above (assuming that the lower bracket is at 0)\n",
    "            maxsigma2 = 1.0\n",
    "            while rootfindersigma(maxsigma2)>0:\n",
    "                maxsigma2 *= 4\n",
    "            # then find the exact root\n",
    "            try:\n",
    "                sigma2 = scipy.optimize.brentq(rootfindersigma, 0, maxsigma2)\n",
    "            except:  # may fail if the best-fit sigma^2 is less than 0, then replace it by 0\n",
    "                sigma2 = 0.\n",
    "\n",
    "            # after having found the best-fit sigma, we again obtain the solution for (meanpmra, meanpmdec)\n",
    "            # from a linear system, and then compute the hessian of -ln(L) w.r.t. all three parameters\n",
    "            # (meanpmra, meanpmdec, sigma).\n",
    "            # The inverse of this hessian is the covariance matrix for the best-fit parameters.\n",
    "            D      = (Lambda + sigma2)**-1\n",
    "            RTDR   = numpy.einsum('ki,k,kj->ij', R, D, R)\n",
    "            RTDy   = numpy.einsum('ki,k,k->i',   R, D, y)\n",
    "            sol    = numpy.linalg.solve(RTDR, RTDy)  # inferred mean PM of the cluster\n",
    "            sigval = sigma2**0.5                     # inferred internal PM dispersion\n",
    "            z      = y - numpy.dot(R, sol)           # difference between model prediction and actual PM\n",
    "            H      = numpy.zeros((3, 3))  # overall hessian\n",
    "            H[:2,:2] = RTDR               # top-left 2x2 block of the hessian is [ R^T  diag(D)  R ]\n",
    "            H[2,2] = numpy.sum( 4 * sigma2 * z**2 * D**3 - (2 * sigma2 + z**2) * D**2 + D )  # bottom-right element\n",
    "            H[2,:2]= numpy.dot(R.T, z * D**2) * 2*sigval   # two remaining values in the bottom row\n",
    "            H[:2,2]= H[2,:2]                               # ..and symmetrically transposed ones in the right column\n",
    "            invH   = numpy.linalg.inv(H)\n",
    "            covar  = invH[0:2, 0:2]    # covariance matrix for meanpmra, meanpmdec\n",
    "            sigerr = invH[2, 2]**0.5   # standard deviation of sigma (don't output its correlations with meanpmra, meanpmdec)\n",
    "\n",
    "    else:  # a simpler case with no spatial correlations and known sigma\n",
    "        covmat = numpy.zeros((nstar, 2, 2))\n",
    "        covmat[:,0,0] = pmra_error **2 + sigma**2 * sig2mul\n",
    "        covmat[:,1,1] = pmdec_error**2 + sigma**2 * sig2mul\n",
    "        covmat[:,0,1] = pmra_error * pmdec_error * pmra_pmdec_corr\n",
    "        covmat[:,1,0] = pmra_error * pmdec_error * pmra_pmdec_corr\n",
    "        CinvA = numpy.linalg.inv(covmat).reshape(2*nstar, 2)\n",
    "        covar = numpy.linalg.inv(numpy.sum(CinvA.reshape(nstar, 2, 2), axis=0))\n",
    "        sol   = numpy.dot(covar, numpy.dot(CinvA.T, pmboth))\n",
    "        sigval= sigma\n",
    "        sigerr= 0.\n",
    "\n",
    "    return sol[0], sol[1], covar[0,0]**0.5, covar[1,1]**0.5, covar[0,1] / (covar[0,0]*covar[1,1])**0.5, sigval, sigerr\n",
    "\n",
    "\n",
    "def get_mean_plx(ra, dec, plx, plx_error, covfnc=None, gmag=None):\n",
    "    '''\n",
    "    Compute the mean parallax for a cluster of stars, possibly taking into account\n",
    "    spatially correlated systematic errors.\n",
    "\n",
    "    Input consists of several arrays of length N (the number of stars), as given in the Gaia catalogue:\n",
    "    ra -- right ascension (azimuthal angle, or longitude) of stars, measured in degrees\n",
    "    dec -- declination (latitude), measured in degrees [-90 to +90]\n",
    "    plx -- parallax\n",
    "    plx_error -- parallax uncertainty\n",
    "    covfnc (optional) -- spatial covariance function for parallax errors, e.g., covfncplx, or None\n",
    "    gmag (optional) -- G-band magnitude (used to scale the parallax covariance function)\n",
    "\n",
    "    Return: mean parallax and its uncertainty\n",
    "    '''\n",
    "\n",
    "    nstar  = len(ra)\n",
    "    if not covfnc is None:\n",
    "        # covariance matrix of systematic errors depending on the distance between two stars:\n",
    "        # [ [ C11  C12  ...  C1n ]\n",
    "        #   [ C12  C22  ...  C2n ]\n",
    "        #   [ ...  ...  ...  ... ]\n",
    "        #   [ C1n  C2n  ...  Cnn ] ]\n",
    "        # where Cij = covfnc(angular_distance(star_i, star_j))\n",
    "        covmat = numpy.array([ covfnc( angular_distance(ra, dec, ra0, dec0) )\n",
    "            for ra0, dec0 in zip(ra, dec) ])\n",
    "\n",
    "        # magnitude-dependent scaling of covariance function\n",
    "        if not gmag is None:\n",
    "            covfncmul = numpy.maximum(1.0, gmag-17)\n",
    "            for i in range(len(plx)):\n",
    "                covmat[i] *= numpy.minimum(covfncmul, covfncmul[i])\n",
    "\n",
    "        # add statistical errors along the main diagonal:\n",
    "        # [ [ E1   0  ...  0  ]\n",
    "        #   [  0  E2  ...  0  ]\n",
    "        #   [ ... ... ... ... ]\n",
    "        #   [  0   0  ... En  ] ]\n",
    "        covmat += numpy.diag(plx_error**2)\n",
    "\n",
    "        # obtain the Cholesky decomposition of covariance matrix\n",
    "        chol  = numpy.linalg.cholesky(covmat)\n",
    "        Cinv  = scipy.linalg.cho_solve((chol, True), numpy.ones(len(plx)))\n",
    "        covar = numpy.sum(Cinv)**-1           # squared parallax uncertainty\n",
    "        mean  = numpy.dot(Cinv, plx) * covar  # mean parallax (the solution)\n",
    "\n",
    "    else:  # a simpler case with no spatial correlations\n",
    "        covar = numpy.sum(plx_error**-2)**-1\n",
    "        mean  = numpy.sum(plx * plx_error**-2) * covar\n",
    "\n",
    "    return mean, covar**0.5\n",
    "\n",
    "\n",
    "def create_cluster(nstar, radius, sigma=0, covfnc=None):\n",
    "    '''\n",
    "    Create a mock cluster of stars.\n",
    "\n",
    "    Input:\n",
    "    nstar -- number of stars.\n",
    "    radius -- radius of the cluster (in degrees); the surface density profile is Gaussian with this radius.\n",
    "    sigma -- internal PM dispersion of stars in the cluster; its spatial dependence is\n",
    "    sigma(R) = sigma / (1 + (R/radius)**2)**0.25\n",
    "    covfnc -- spatial covariance function of systematic errors; if None then no correlated systematic errors are added,\n",
    "    only the random (statistical) errors with a realistic distribution of magnitudes.\n",
    "\n",
    "    Output:\n",
    "    five arrays that may be provided as input for the routine get_mean_pm:\n",
    "    ra, dec, pmra, pmdec, pmra_error, pmdec_error, pm_corr\n",
    "    '''\n",
    "    rsigma     = radius\n",
    "    ra         = numpy.random.normal(size=nstar) * radius\n",
    "    dec        = numpy.random.normal(size=nstar) * radius\n",
    "    sigvar     = sigma / (1 + (ra**2 + dec**2) / rsigma**2)**0.25   # spatially variable dispersion\n",
    "    pmra       = numpy.random.normal(size=nstar) * sigvar           # true values\n",
    "    pmdec      = numpy.random.normal(size=nstar) * sigvar\n",
    "    pm_err_mag = numpy.random.gamma(shape=2, scale=0.5, size=nstar) # size of error ellipse\n",
    "    pm_err_rat = numpy.random.uniform(0.2, 1, size=nstar)           # axis ratio of --\"--\n",
    "    pm_err_dir = numpy.random.uniform(0, numpy.pi, size=nstar)      # orientation of --\"--\n",
    "    pm_err_maj = pm_err_mag * pm_err_rat**-0.5                      # semimajor axis\n",
    "    pm_err_min = pm_err_mag * pm_err_rat**0.5                       # semiminor axis\n",
    "    tan        = numpy.tan(pm_err_dir)\n",
    "    pmra_error = ( (pm_err_maj**2 + pm_err_min**2 * tan**2) / (1 + tan**2) )**0.5\n",
    "    pmdec_error= ( (pm_err_min**2 + pm_err_maj**2 * tan**2) / (1 + tan**2) )**0.5\n",
    "    pm_corr    = tan / (1 + tan**2) * (pm_err_maj**2 - pm_err_min**2) / (pmra_error * pmdec_error)\n",
    "    # add errors to the true values of pmra, pmdec\n",
    "    if not covfnc is None:\n",
    "        # same steps as in the above routine\n",
    "        covmat = numpy.array([ covfnc( angular_distance(ra, dec, ra0, dec0) )\n",
    "            for ra0, dec0 in zip(ra, dec) ])\n",
    "        covmat2= numpy.zeros((2*nstar, 2*nstar))\n",
    "        covmat2[0::2, 0::2] = covmat\n",
    "        covmat2[1::2, 1::2] = covmat\n",
    "        stride = 2*(2*nstar+1)\n",
    "        covmat2.flat[        0::stride] += pmra_error **2\n",
    "        covmat2.flat[2*nstar+1::stride] += pmdec_error**2\n",
    "        covmat2.flat[        1::stride] += pmra_error * pmdec_error * pm_corr\n",
    "        covmat2.flat[2*nstar  ::stride] += pmra_error * pmdec_error * pm_corr\n",
    "        chol  = numpy.linalg.cholesky(covmat2)\n",
    "        errs  = numpy.dot(chol, numpy.random.normal(size=2*nstar))   # noise/measurement errors\n",
    "        pmra += errs[0::2]\n",
    "        pmdec+= errs[1::2]\n",
    "    else:  # simpler case with no correlated errors\n",
    "        noise1, noise2 = numpy.random.normal(size=(2,nstar))\n",
    "        pmra += pmra_error  *  noise1\n",
    "        pmdec+= pmdec_error * (noise2 * (1-pm_corr**2)**0.5 + noise1 * pm_corr)\n",
    "\n",
    "    return ra, dec, pmra, pmdec, pmra_error, pmdec_error, pm_corr\n",
    "\n",
    "\n",
    "##### test/example of the usage for the above code #####\n",
    "\n",
    "if __name__ == '__main__':\n",
    "    import sys\n",
    "    plot = len(sys.argv)>1   # run with any command-line argument to plot the demo results\n",
    "    if plot: import matplotlib.patches, matplotlib.pyplot as plt\n",
    "\n",
    "    def ellipse(meanx, meany, sigmax, sigmay, corr, **kw):\n",
    "        # draw error ellipse defined by standard deviations and correlation coefficient\n",
    "        if corr==0:\n",
    "            return matplotlib.patches.Ellipse((meanx,meany), width=2*sigmax, height=2*sigmay, **kw)\n",
    "        sum = sigmax**2+sigmay**2\n",
    "        dif = sigmax**2-sigmay**2\n",
    "        det = (dif**2 + (2*sigmax*sigmay*corr)**2)**0.5\n",
    "        ang = numpy.arctan2(2*corr*sigmax*sigmay, dif+det)\n",
    "        return matplotlib.patches.Ellipse((meanx,meany), width=(2*(sum+det))**0.5, height=(2*(sum-det))**0.5, angle=180/numpy.pi*ang, **kw)\n",
    "\n",
    "\n",
    "    def test(nstar, radius, sigma=0, covfnc=None, fix_sigma=False):\n",
    "        ra, dec, pmra, pmdec, pmra_err, pmdec_err, pm_corr = create_cluster(nstar, radius, sigma, covfnc)\n",
    "        meanpmra, meanpmdec, errpmra, errpmdec, corr, sigma, sigerr = \\\n",
    "            get_mean_pm(ra, dec, pmra, pmdec, pmra_err, pmdec_err, pm_corr, sigma if fix_sigma else None, radius, covfnc)\n",
    "        print(\"pmra=%.3f +- %.3f,  pmdec=%.3f +- %.3f,  sigma=%.3f +- %.3f\" % \\\n",
    "            (meanpmra, errpmra, meanpmdec, errpmdec, sigma, sigerr))\n",
    "        if plot:\n",
    "            for i in range(nstar):\n",
    "                plt.gca().add_artist(ellipse(pmra[i], pmdec[i], pmra_err[i], pmdec_err[i], pm_corr[i],\n",
    "                    alpha=0.1, lw=0, color=numpy.random.rand(3,1)))\n",
    "            plt.plot(0, 0, 'o', color='b', markeredgewidth=0)  # true value\n",
    "            plt.errorbar(meanpmra, meanpmdec, xerr=errpmra, yerr=errpmdec, color='r', markeredgewidth=0)\n",
    "            plt.xlim(-5, 5)\n",
    "            plt.ylim(-5, 5)\n",
    "            plt.show()"
   ]
  },
  {
   "cell_type": "markdown",
   "id": "28c2c496",
   "metadata": {},
   "source": [
    "### From Files:"
   ]
  },
  {
   "cell_type": "code",
   "execution_count": null,
   "id": "e124b912",
   "metadata": {},
   "outputs": [],
   "source": [
    "cl.pmra = cl.ghpmra  \n",
    "cl.pmdec = cl.ghpmdec \n",
    "cl.pmra_err = cl.ghpmra_err \n",
    "cl.pmdec_err = cl.ghpmdec_err"
   ]
  },
  {
   "cell_type": "code",
   "execution_count": 37,
   "id": "5a6c73c0",
   "metadata": {},
   "outputs": [
    {
     "name": "stderr",
     "output_type": "stream",
     "text": [
      "/tmp/ipykernel_355/3730710381.py:41: RuntimeWarning: divide by zero encountered in double_scalars\n",
      "  q2.append(diff/disp)\n",
      "/tmp/ipykernel_355/3730710381.py:43: RuntimeWarning: divide by zero encountered in double_scalars\n",
      "  print(name, '--', diff, '--', diff/np.sqrt(e1**2+e2**2), '--', diff/disp)\n",
      "/tmp/ipykernel_355/3730710381.py:41: RuntimeWarning: divide by zero encountered in double_scalars\n",
      "  q2.append(diff/disp)\n",
      "/tmp/ipykernel_355/3730710381.py:43: RuntimeWarning: divide by zero encountered in double_scalars\n",
      "  print(name, '--', diff, '--', diff/np.sqrt(e1**2+e2**2), '--', diff/disp)\n"
     ]
    },
    {
     "name": "stdout",
     "output_type": "stream",
     "text": [
      "NGC 1644 -- 0.11347254061921982 -- 0.8702689829792905 -- inf\n",
      "NGC 1651 -- 0.21330262660400315 -- 1.1828986270923383 -- inf\n",
      "NGC 1652 -- 0.4781687553682564 -- 1.4588402700836447 -- 4.313533771647813\n",
      "NGC 1756 -- 0.018753499701220953 -- 0.6921983538048765 -- 0.10026568619615812\n",
      "NGC 1783 -- 0.05469645103061196 -- 1.0975157112999565 -- 0.33714503775105364\n",
      "NGC 1786 -- 0.18026615522629455 -- 1.7785618841459927 -- 0.8974581227496502\n",
      "NGC 1806 -- 0.06960383802963263 -- 1.0071617323834987 -- 0.2966763167873519\n",
      "NGC 1818 -- 0.143860698639225 -- 3.5302803783677206 -- 0.7413970330345427\n",
      "NGC 1831 -- 0.06470836310031544 -- 1.2515234477972008 -- 0.46383215932396976\n",
      "NGC 1866 -- 0.06683703098073569 -- 1.2451524508246086 -- 0.4020017507200846\n",
      "NGC 1868 -- 0.07190720475713608 -- 0.42144954180365557 -- 0.5330156667444936\n",
      "NGC 1928 -- 0.07144363897010436 -- 2.5593576668965525 -- 0.17550167590922255\n",
      "NGC 1939 -- 0.04319598270467997 -- 1.5272606381684029 -- 0.11909681030379471\n",
      "NGC 1978 -- 0.20560305464846143 -- 3.7764516534294414 -- 1.7632225938107364\n",
      "NGC 1987 -- 0.05584852638324814 -- 2.0348153091225827 -- 0.17004539641213146\n",
      "NGC 2108 -- 0.08037474516649164 -- 2.98157868894113 -- 0.4122083481614333\n",
      "NGC 2159 -- 0.08282048570129812 -- 1.1625061929046485 -- 0.6276718759364341\n",
      "NGC 2162 -- 0.3193021661534384 -- 3.651920120637307 -- 4.987152969299342\n",
      "NGC 2173 -- 0.09400275229375203 -- 1.8978415547268537 -- 0.8203804252022275\n",
      "NGC 2190 -- 0.09115938927496482 -- 1.5337873269449243 -- 1.923300038319175\n",
      "NGC 2209 -- 0.07096001481299401 -- 0.44248194986639533 -- 0.7476309003385547\n",
      "NGC 2210 -- 0.4267034458182784 -- 7.341834396625471 -- 4.761838865018655\n",
      "NGC 2231 -- 0.3928695699642179 -- 4.9412294476517875 -- 4.692590437177322\n",
      "Hodge 4 -- 0.04406001189404907 -- 0.521800910149781 -- 0.31149770056615234\n",
      "Hodge 11 -- 0.2029739916172707 -- 4.294917041046001 -- 2.3413211763879147\n"
     ]
    }
   ],
   "source": [
    "q1, q2, d, radiff, decdiff = [],[],[],[],[]\n",
    "r1, r2, d1, d2 = [],[],[],[]\n",
    "\n",
    "cl = pd.read_csv('LMC Bennet.csv')\n",
    "\n",
    " \n",
    "\n",
    "for i in range(len(cl)):\n",
    "    name = cl['cluster name'][i]\n",
    "    f1 = 'vLMC/v'+name.split()[0]+'_'+name.split()[1]+'.csv'\n",
    "    a = pd.read_csv(f1)\n",
    "    \n",
    "    pr1 = cl.pmra[i]\n",
    "    pd1 = cl.pmdec[i]\n",
    "    \n",
    "    pr2 = a.v[0]\n",
    "    pd2 = a.v[1]\n",
    "    \n",
    "    er1 = cl.pmra_err[i]\n",
    "    ed1 = cl.pmdec_err[i]\n",
    "    \n",
    "    er2 = a.v[2]\n",
    "    ed2 = a.v[3]\n",
    "    \n",
    "    e1 = np.sqrt(((pr1*er1)**2 + (pd1*ed1)**2) / (pr1**2 + pd1**2))\n",
    "    e2 = np.sqrt(((pr2*er2)**2 + (pd2*ed2)**2) / (pr2**2 + pd2**2))\n",
    "    \n",
    "    diff = np.sqrt((pr1-pr2)**2 + (pd1-pd2)**2)\n",
    "    \n",
    "    r1.append(pr1)\n",
    "    r2.append(pr2)\n",
    "    d1.append(pd1)\n",
    "    d2.append(pd2)\n",
    "    radiff.append(pr1-pr2)\n",
    "    decdiff.append(pd1-pd2)\n",
    "    \n",
    "    disp = a.v[5]\n",
    "    d.append(disp)\n",
    "    \n",
    "    q1.append(diff/np.sqrt(e1**2+e2**2))\n",
    "    q2.append(diff/disp)\n",
    "    \n",
    "    print(name, '--', diff, '--', diff/np.sqrt(e1**2+e2**2), '--', diff/disp)\n",
    "    \n",
    "\n",
    "q1, q2, d, radiff, decdiff = np.array(q1), np.array(q2), np.array(d), np.array(radiff), np.array(decdiff)\n",
    "r1, r2, d1, d2 = np.array(r1), np.array(r2), np.array(d1), np.array(d2)"
   ]
  },
  {
   "cell_type": "code",
   "execution_count": 43,
   "id": "c836c055",
   "metadata": {},
   "outputs": [
    {
     "data": {
      "image/png": "[encoded data removed]",
      "text/plain": [
       "<Figure size 1000x1000 with 1 Axes>"
      ]
     },
     "metadata": {},
     "output_type": "display_data"
    }
   ],
   "source": [
    "s=1\n",
    "sq=10\n",
    "k=1.004\n",
    "\n",
    "plt.figure(figsize=(sq, sq))\n",
    "for i in range(len(cl)):\n",
    "    if q2[i] < 1 or q1[i] < 3:\n",
    "        continue\n",
    "    plt.arrow(cl.RA[i], cl.Dec[i], s*radiff[i], s*decdiff[i], head_width=0.05, color='g')\n",
    "    \n",
    "    plt.arrow(cl.RA[i], cl.Dec[i], r1[i]-1.858, d1[i]-0.385, head_width=0.05, color='r')\n",
    "    plt.arrow(cl.RA[i], cl.Dec[i], r2[i]-1.858, d2[i]-0.385, head_width=0.05, color='b')\n",
    "    \n",
    "    name = cl['cluster name'][i]\n",
    "    plt.text(cl.RA[i]*k, cl.Dec[i]*k, name+' -- '+str(np.round(q1[i],3)))\n",
    "\n",
    "plt.xlim(65,100)\n",
    "plt.ylim(-75,-63)\n",
    "plt.gca().invert_xaxis()\n",
    "plt.show()"
   ]
  },
  {
   "cell_type": "code",
   "execution_count": 30,
   "id": "01533a4e",
   "metadata": {},
   "outputs": [
    {
     "data": {
      "image/png": "[encoded data removed]",
      "text/plain": [
       "<Figure size 640x480 with 1 Axes>"
      ]
     },
     "metadata": {},
     "output_type": "display_data"
    },
    {
     "data": {
      "image/png": "[encoded data removed]",
      "text/plain": [
       "<Figure size 640x480 with 1 Axes>"
      ]
     },
     "metadata": {},
     "output_type": "display_data"
    }
   ],
   "source": [
    "plt.hist(q2[np.where(q2<20)], bins=20, color='plum')\n",
    "plt.show()\n",
    "plt.hist(q1, bins=20, color='mediumorchid')\n",
    "plt.show()"
   ]
  },
  {
   "cell_type": "code",
   "execution_count": 28,
   "id": "1b269fa2",
   "metadata": {},
   "outputs": [
    {
     "data": {
      "text/plain": [
       "9"
      ]
     },
     "execution_count": 28,
     "metadata": {},
     "output_type": "execute_result"
    }
   ],
   "source": [
    "len(np.where(q2>1.5)[0])"
   ]
  },
  {
   "cell_type": "code",
   "execution_count": 17,
   "id": "b7f4a4e6",
   "metadata": {},
   "outputs": [
    {
     "data": {
      "text/plain": [
       "<matplotlib.collections.LineCollection at 0x7f6d8534f970>"
      ]
     },
     "execution_count": 17,
     "metadata": {},
     "output_type": "execute_result"
    },
    {
     "data": {
      "image/png": "[encoded data removed]",
      "text/plain": [
       "<Figure size 640x480 with 1 Axes>"
      ]
     },
     "metadata": {},
     "output_type": "display_data"
    }
   ],
   "source": [
    "cl.coord = cl.phi\n",
    "plt.scatter(cl.coord, q1)\n",
    "plt.hlines([3], np.min(cl.coord), np.max(cl.coord), color='m')"
   ]
  },
  {
   "cell_type": "code",
   "execution_count": 10,
   "id": "e52b978e",
   "metadata": {},
   "outputs": [
    {
     "data": {
      "text/plain": [
       "<matplotlib.collections.PathCollection at 0x7f6d8558e6d0>"
      ]
     },
     "execution_count": 10,
     "metadata": {},
     "output_type": "execute_result"
    },
    {
     "data": {
      "image/png": "[encoded data removed]",
      "text/plain": [
       "<Figure size 640x480 with 1 Axes>"
      ]
     },
     "metadata": {},
     "output_type": "display_data"
    }
   ],
   "source": [
    "plt.scatter(cl.coord, d)"
   ]
  }
 ],
 "metadata": {
  "kernelspec": {
   "display_name": "Python 3 (ipykernel)",
   "language": "python",
   "name": "python3"
  },
  "language_info": {
   "codemirror_mode": {
    "name": "ipython",
    "version": 3
   },
   "file_extension": ".py",
   "mimetype": "text/x-python",
   "name": "python",
   "nbconvert_exporter": "python",
   "pygments_lexer": "ipython3",
   "version": "3.8.10"
  }
 },
 "nbformat": 4,
 "nbformat_minor": 5
}
